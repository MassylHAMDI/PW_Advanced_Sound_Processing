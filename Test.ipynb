{
 "cells": [
  {
   "cell_type": "markdown",
   "id": "571d19d7-4776-4ef5-b494-b3f6f7fa14a5",
   "metadata": {},
   "source": [
    "# Advanced Audio Processing, Part 1: Acoustics and Sound Localization"
   ]
  },
  {
   "cell_type": "markdown",
   "metadata": {},
   "source": [
    "### Preparation"
   ]
  },
  {
   "cell_type": "markdown",
   "metadata": {},
   "source": [
    "In this first tutorial, space is represented as a plane with an orthonormal basis [x,z] and a\n",
    "reference point O. A microphone array is placed on the x-axis and centred at O. It is equipped\n",
    "with N microphones (N even), placed at the coordinates $(x = 0, z = z_n$), $n \\in [1, N]$, and equally\n",
    "spaced by the distance d."
   ]
  },
  {
   "cell_type": "markdown",
   "metadata": {},
   "source": [
    "1. Express $z_n$ as a function of the spacing d between the microphones:"
   ]
  },
  {
   "cell_type": "markdown",
   "metadata": {},
   "source": [
    "$$z_n = (n - \\frac{N+1}{2})d$$\n",
    "        with  \n",
    "        n : current microphone  \n",
    "        N : number of microphones  \n",
    "        d : the interspace between two successive microphones"
   ]
  },
  {
   "cell_type": "markdown",
   "metadata": {},
   "source": [
    "1.1.1. Wave fronts"
   ]
  },
  {
   "cell_type": "markdown",
   "metadata": {},
   "source": [
    "Assumption 1 : the wave front is assumed to be a plane, cf. Fig1.  \n",
    "2. Express dn as a function of $z_n$ and the angle $\\theta_s$, which is the angle of incidence defined\n",
    "with respect to the axis [O, z] of the microphone array:"
   ]
  },
  {
   "cell_type": "markdown",
   "metadata": {},
   "source": [
    "$$d_n = z_n.cos(\\theta_s)$$\n",
    "with  \n",
    "$\\theta_s$ : the angle of incidance  \n",
    "$z_n$ : spacing between microphones"
   ]
  },
  {
   "cell_type": "markdown",
   "metadata": {},
   "source": [
    "3. Deduce the angle of incidence $\\theta_s$, as a function of the delay $\\delta_{\\tau_n}$ ."
   ]
  },
  {
   "cell_type": "markdown",
   "metadata": {},
   "source": [
    "$$\\delta_{\\tau_n} = \\frac{z_n}{c}cos(\\theta_s) \\implies \\theta_s = arccos(\\delta_{\\tau_n} \\frac{c}{z_n})$$"
   ]
  },
  {
   "cell_type": "markdown",
   "metadata": {},
   "source": [
    "Assumption 2 : the wave front is assumed to be spherical, cf. Fig2.  \n",
    "4. Express the (Cartesian) coordinates of the source $(x_s, z_s)$ as a function of the distance\n",
    "$r_s$ between the source and the centre of the microphone array, the position of the $n^{th}$\n",
    "microphone $z_n$, the distance $d_n$ and the angles $\\alpha_s$ and $d\\alpha_s$, the angle between the wave\n",
    "arriving at the $n^{th}$ microphone and that arriving at O"
   ]
  },
  {
   "cell_type": "markdown",
   "metadata": {},
   "source": [
    "$$\\alpha_s + d\\alpha_n + 90 + \\omega = 180 \\implies \\omega = 90 - (\\alpha_s + d\\alpha_n)$$  \n",
    "$$\n",
    "\\left\\{\n",
    "    \\begin{array}{ll}\n",
    "        x_s = (r_s + d_n).sin(90 - (\\alpha_s + d\\alpha_n)) \\\\\n",
    "        z_s = (r_s + d_n).cos(90 - (\\alpha_s + d\\alpha_n)) \n",
    "    \\end{array}\n",
    "\\right. \\implies\n",
    "\\left\\{\n",
    "    \\begin{array}{ll}\n",
    "        x_s = (r_s + d_n).cos(\\alpha_s + d\\alpha_n) \\\\\n",
    "        z_s = (r_s + d_n).sin(\\alpha_s + d\\alpha_n) \n",
    "    \\end{array}\n",
    "\\right.\n",
    "$$"
   ]
  },
  {
   "cell_type": "markdown",
   "metadata": {},
   "source": [
    "5. Deduce the equation verified by $d_n$ :\n",
    "$$d_n^2 + 2d_nr_s = z_n^2  - 2r_sz_n cos\\theta_s$$"
   ]
  },
  {
   "cell_type": "markdown",
   "metadata": {},
   "source": [
    "        d'après le théorème de pythagore généralisé on a   \n",
    "$$(d_n + r_s)^2 = r_s^2 + z_n^2 - 2r_sz_n cos(\\theta_s) \\implies d_n^2 + r_s^2 + 2r_sd_n = r_s^2 + z_n^2 - 2r_sz_n cos(\\theta_s) \\implies d_n^2 + 2r_sd_n = z_n^2 - 2r_sz_n cos(\\theta_s) $$"
   ]
  },
  {
   "cell_type": "markdown",
   "metadata": {},
   "source": [
    "6. Propose a method to derive the position of the source, given by the angle of incidence $\\theta_s$\n",
    "with respect to the axis [O, z) of the microphone array, and its distance from the origin $r_s$."
   ]
  },
  {
   "cell_type": "markdown",
   "metadata": {},
   "source": [
    "$$\n",
    "\\left\\{\n",
    "    \\begin{array}{ll}\n",
    "        x_s = r_s sin(\\theta_s) \\\\\n",
    "        z_s = r_s cos(\\theta_s) \n",
    "    \\end{array}\n",
    "\\right.\n",
    "$$"
   ]
  },
  {
   "cell_type": "markdown",
   "metadata": {},
   "source": [
    "7. What happens to equation (1) when $r_s\\to +\\infty$ Conclude.\n",
    "On peut réerire (1) de la manière suivante :  \n",
    "$$ \\frac{d_n^2}{r_s} + 2d_n = \\frac{z_n^2}{r_s} - 2z_ncos\\theta_s, \\space si \\space r_s \\to+\\infty \\implies d_n = -z_n cos\\theta_s $$"
   ]
  },
  {
   "cell_type": "markdown",
   "metadata": {},
   "source": [
    "   That means that we are in the case of a planar wave front. unlike to the case in question 2 we have an angle of incidence  $\\theta = -\\theta_s$ ."
   ]
  },
  {
   "cell_type": "markdown",
   "id": "65345640-7faf-4c3f-ae7d-7a1ca84c7763",
   "metadata": {},
   "source": [
    "This is a test notebook to check if your installation is working. Please execute the following cells and check if their are executing correctly. If not, please contact your teacher to try to debug your configuration before the first practical session."
   ]
  },
  {
   "cell_type": "code",
   "execution_count": 1,
   "id": "421d6571-6e49-4b0e-9f74-364592d9f3d6",
   "metadata": {},
   "outputs": [],
   "source": [
    "%matplotlib widget\n",
    "import matplotlib.pyplot as plt\n",
    "import numpy as np\n",
    "from client import array"
   ]
  },
  {
   "cell_type": "markdown",
   "id": "4023f96e-6e59-4068-933e-ecc7f6b2ee81",
   "metadata": {},
   "source": [
    "### When working with the acquisition system"
   ]
  },
  {
   "cell_type": "code",
   "execution_count": 5,
   "id": "b3e6a98a-c744-4ac3-919c-c9e539ad9bad",
   "metadata": {},
   "outputs": [
    {
     "data": {
      "application/vnd.jupyter.widget-view+json": {
       "model_id": "bbe4a651e30c4c22b32e1a6b2e87ff0d",
       "version_major": 2,
       "version_minor": 0
      },
      "text/plain": [
       "VBox(children=(HBox(children=(Text(value='10.3.141.1', continuous_update=False, description='Adresse IP:'), Te…"
      ]
     },
     "metadata": {},
     "output_type": "display_data"
    }
   ],
   "source": [
    "antenne=array('server')"
   ]
  },
  {
   "cell_type": "markdown",
   "id": "c35133e9-ff01-41c0-a87b-6eebc21909a1",
   "metadata": {},
   "source": [
    "### When working on recorded files"
   ]
  },
  {
   "cell_type": "code",
   "execution_count": 3,
   "id": "3b17b051-8baa-4345-8d11-cef5695979fe",
   "metadata": {},
   "outputs": [
    {
     "data": {
      "application/vnd.jupyter.widget-view+json": {
       "model_id": "bcc3c2a6799b459d9b69fcfb79759f15",
       "version_major": 2,
       "version_minor": 0
      },
      "text/plain": [
       "VBox(children=(HBox(children=(FileChooser(path='C:\\Users\\youne\\Documents\\GitHub\\PW_Advanced_Sound_Processing',…"
      ]
     },
     "metadata": {},
     "output_type": "display_data"
    }
   ],
   "source": [
    "antenne=array('play')"
   ]
  },
  {
   "cell_type": "markdown",
   "id": "478e99f2-63f5-4475-9cc4-b245a57564a2",
   "metadata": {},
   "source": [
    "### Get parameters and read data"
   ]
  },
  {
   "cell_type": "code",
   "execution_count": 4,
   "id": "cc28ea3f-2c92-40a7-ae36-70c4f81e38cc",
   "metadata": {},
   "outputs": [
    {
     "ename": "AttributeError",
     "evalue": "'array' object has no attribute 'mu32'",
     "output_type": "error",
     "traceback": [
      "\u001b[1;31m---------------------------------------------------------------------------\u001b[0m",
      "\u001b[1;31mAttributeError\u001b[0m                            Traceback (most recent call last)",
      "\u001b[1;32mc:\\Users\\youne\\Documents\\GitHub\\PW_Advanced_Sound_Processing\\Test.ipynb Cell 9\u001b[0m line \u001b[0;36m5\n\u001b[0;32m      <a href='vscode-notebook-cell:/c%3A/Users/youne/Documents/GitHub/PW_Advanced_Sound_Processing/Test.ipynb#X11sZmlsZQ%3D%3D?line=1'>2</a>\u001b[0m BLK \u001b[39m=\u001b[39m antenne\u001b[39m.\u001b[39mblocksize\n\u001b[0;32m      <a href='vscode-notebook-cell:/c%3A/Users/youne/Documents/GitHub/PW_Advanced_Sound_Processing/Test.ipynb#X11sZmlsZQ%3D%3D?line=3'>4</a>\u001b[0m \u001b[39m# Read one buffer\u001b[39;00m\n\u001b[1;32m----> <a href='vscode-notebook-cell:/c%3A/Users/youne/Documents/GitHub/PW_Advanced_Sound_Processing/Test.ipynb#X11sZmlsZQ%3D%3D?line=4'>5</a>\u001b[0m m \u001b[39m=\u001b[39m antenne\u001b[39m.\u001b[39;49mread()\n",
      "File \u001b[1;32mc:\\Users\\youne\\Documents\\GitHub\\PW_Advanced_Sound_Processing\\client.py:550\u001b[0m, in \u001b[0;36marray.read\u001b[1;34m(self)\u001b[0m\n\u001b[0;32m    541\u001b[0m \u001b[39m\u001b[39m\u001b[39m\"\"\"Read current audio buffer. The buffer is also available in the .m attribute of the \u001b[39;00m\n\u001b[0;32m    542\u001b[0m \u001b[39m   array object.\u001b[39;00m\n\u001b[0;32m    543\u001b[0m \n\u001b[0;32m    544\u001b[0m \u001b[39mReturns:\u001b[39;00m\n\u001b[0;32m    545\u001b[0m \u001b[39m    np.array: current audio buffer of size nb_mic x blocksize\u001b[39;00m\n\u001b[0;32m    546\u001b[0m \u001b[39m\"\"\"\u001b[39;00m\n\u001b[0;32m    547\u001b[0m \u001b[39mtry\u001b[39;00m:\n\u001b[0;32m    548\u001b[0m     \u001b[39m# Read last buffer\u001b[39;00m\n\u001b[0;32m    549\u001b[0m     \u001b[39m#self.m = self.mu32.signal_q.get(block=True, timeout=2) * self.mu32.sensibility\u001b[39;00m\n\u001b[1;32m--> 550\u001b[0m     \u001b[39mself\u001b[39m\u001b[39m.\u001b[39mm \u001b[39m=\u001b[39m \u001b[39mself\u001b[39;49m\u001b[39m.\u001b[39;49mmu32\u001b[39m.\u001b[39msignal_q\u001b[39m.\u001b[39mget(timeout \u001b[39m=\u001b[39m \u001b[39m5\u001b[39m)\u001b[39m.\u001b[39mastype( np\u001b[39m.\u001b[39mfloat32 ) \u001b[39m*\u001b[39m \u001b[39mself\u001b[39m\u001b[39m.\u001b[39mmu32\u001b[39m.\u001b[39msensibility\n\u001b[0;32m    551\u001b[0m     \u001b[39m# Return array\u001b[39;00m\n\u001b[0;32m    552\u001b[0m     \u001b[39mreturn\u001b[39;00m \u001b[39mself\u001b[39m\u001b[39m.\u001b[39mm\n",
      "\u001b[1;31mAttributeError\u001b[0m: 'array' object has no attribute 'mu32'"
     ]
    }
   ],
   "source": [
    "Fs = antenne.fs\n",
    "BLK = antenne.blocksize\n",
    "\n",
    "# Read one buffer\n",
    "m = antenne.read()"
   ]
  },
  {
   "cell_type": "code",
   "execution_count": null,
   "metadata": {},
   "outputs": [],
   "source": []
  }
 ],
 "metadata": {
  "kernelspec": {
   "display_name": "Python 3 (ipykernel)",
   "language": "python",
   "name": "python3"
  },
  "language_info": {
   "codemirror_mode": {
    "name": "ipython",
    "version": 3
   },
   "file_extension": ".py",
   "mimetype": "text/x-python",
   "name": "python",
   "nbconvert_exporter": "python",
   "pygments_lexer": "ipython3",
   "version": "3.11.5"
  }
 },
 "nbformat": 4,
 "nbformat_minor": 5
}
